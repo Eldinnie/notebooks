{
 "cells": [
  {
   "cell_type": "markdown",
   "metadata": {
    "nbpresent": {
     "id": "177feba3-6849-49ef-ba3f-0d334ae8abf3"
    }
   },
   "source": [
    "# Programmeren – de basis\n",
    "\n",
    "Programmeren is het schrijven van computerprogramma’s. De computer probeert het programma te begrijpen door te doen wat de computer leest. De computer doet alleen iets wat hij leest: niks meer. Als de computer iets leest wat hij niet kent, stopt de computer met het lezen en is er een fout opgetreden. Om dit te voorkomen zijn er regels waarin staat wat de computer moet weten.\n",
    "Net zoals er in de echte wereld meerdere talen zijn, zoals Nederlands, Engels Duits, Frans en Latijn, bestaan er voor de computer ook meerdere talen. In deze talen zijn de woorden opgesteld die de computer moet begrijpen: net een mens dus! Op dit werkblad wordt de taal Python gebruikt.\n",
    "Eén van de belangrijkste dingen die een computer kan, is het tonen van informatie, als tekst. Er is afgesproken dat er een bepaald commando is, waardoor  de computer weet dat wat die moet doen. Om tekst te laten tonen bestaat de functie print. Zodra de computer dit leest, begrijpt de computer dat deze tekst moet laten tonen. De tekst volgt daar achter. De computer moet dan wel weten dat iets tekst is en niet iets wat deze opnieuw moet doen: daarvoor zijn apostroffen voor een achter het woord: _'Dit is tekst.'_. Om dan nog extra aan te geven dat de uitvoer, dus de tekst in ons geval begint, komt er achter het woordje print een te openen haakje **(** en aan het einde van de uitvoer nog een te sluiten haakje: **)**.\n",
    "\n",
    "Een opdracht om iets af te drukken ziet er dus zo uit:\n",
    "> `print('Hallo Wereld!')`\n",
    "\n",
    "In dit werkblad kun je code invoeren in de codeblokken en uitvoeren door op shift+enter te drukken. Probeer het maar eens met het blok hieronder:"
   ]
  },
  {
   "cell_type": "code",
   "execution_count": 1,
   "metadata": {
    "collapsed": false,
    "nbpresent": {
     "id": "f841643c-9333-48e4-8417-f5ca4566dd65"
    }
   },
   "outputs": [
    {
     "name": "stdout",
     "output_type": "stream",
     "text": [
      "Hallo Wereld!\n"
     ]
    }
   ],
   "source": [
    "print('Hallo Wereld!')"
   ]
  },
  {
   "cell_type": "markdown",
   "metadata": {
    "nbpresent": {
     "id": "9cdc5f4a-b344-41d5-a4a1-dff8ad6adf3a"
    }
   },
   "source": [
    "### Opdracht 1\n",
    "Laat de computer de volgende tekst weergeven: Welkom bij de open dag 2018!."
   ]
  },
  {
   "cell_type": "code",
   "execution_count": null,
   "metadata": {
    "collapsed": true,
    "nbpresent": {
     "id": "5c7f1420-4752-4717-9c3a-41f47b8e1ad4"
    }
   },
   "outputs": [],
   "source": []
  },
  {
   "cell_type": "markdown",
   "metadata": {
    "nbpresent": {
     "id": "36c84fdb-3bf6-4502-8f56-9c84e47ae214"
    }
   },
   "source": [
    "Nu we de computer tekst kunnen laten weergeven, komen we bij het omgekeerde: wat als de we tekst ingeven, waarna er wat met die tekst gedaan kan worden? Dan moet de tekst wel tijdelijk opgeslagen worden in het geheugen van een computer, zoals een mens woorden die hij ziet kan onthouden. Hiervoor bestaan `variabelen`: verwijzinkjes  naar een plaats in het geheugen van een computer. Om een variabele te maken, wijzigingen of uit te lezen, gebruik je een woord, als `Mijn_eerste_variabele`. De naam mag alles zijn, zolang deze maar uit één woord bestaat. Om aan te geven wat voor tekst de variabele bevat, gebruik je het gelijkteken: **=**. De tekst daarachter wordt weer omgeven door apostroffen.\n",
    "Opdracht 2\n",
    "\n",
    "Het opslaan van een variabele ziet er dus zo uit:\n",
    "> `mijn_eerste_variabele = 'Ik ben een variabele'`\n",
    "\n",
    "### Opdracht 2\n",
    "Maak een variabele die de tekst Dit is een voorbeeld. bevat. De naam mag je zelf kiezen"
   ]
  },
  {
   "cell_type": "code",
   "execution_count": null,
   "metadata": {
    "collapsed": true,
    "nbpresent": {
     "id": "8fb2b9b9-616f-4cd7-b5b7-e419b51e8063"
    }
   },
   "outputs": [],
   "source": []
  },
  {
   "cell_type": "markdown",
   "metadata": {},
   "source": [
    "Een variabelen kunt je net als tekst afdrukken met het print commando. dit ziet er zo uit:\n",
    "> `print(variabele)`\n",
    "\n",
    "Je ziet dat we nu geen apostrofen gebruiken. Die hebben we al gebruikt toen we de variabele maakte.\n",
    "\n",
    "### Opdracht 3\n",
    "Print de variabele die je in de vorige opdracht hebt gemaakt"
   ]
  },
  {
   "cell_type": "code",
   "execution_count": null,
   "metadata": {
    "collapsed": false
   },
   "outputs": [],
   "source": []
  },
  {
   "cell_type": "markdown",
   "metadata": {
    "nbpresent": {
     "id": "b41d088f-7f51-4411-abdc-d5d45fc0eca0"
    }
   },
   "source": [
    "Om tekst als invoer te kunnen nemen gebruik je de functie `input`. De opbouw is hetzelfde als bij de functie `print`: achter de functienaam komen twee haakjes met daartussen de functie-invoer. Dit wordt vervolgens als tekst opgeslagen en dus ook als zodanig behandeld.\n",
    "\n",
    "> `variabele = input('De vraag die je stelt')`\n",
    "\n",
    "Opdracht 3\n",
    "Sla je eigen naam op als variabele naam.\n",
    "_____________________________________________________________________________\n"
   ]
  },
  {
   "cell_type": "code",
   "execution_count": null,
   "metadata": {
    "collapsed": false,
    "nbpresent": {
     "id": "840e9ed8-e5a1-49c1-bbf8-99143f051149"
    }
   },
   "outputs": [],
   "source": []
  },
  {
   "cell_type": "markdown",
   "metadata": {
    "nbpresent": {
     "id": "6f31b139-2e6f-4256-9f8a-9c0ba9b5caf7"
    }
   },
   "source": [
    "Met al deze dingen kunnen we al tekst innemen, opslaan en tonen, oftewel alles wat een computer moet kunnen: informatie innemen, verwerken en weer weergeven! Om de tekst nu wat verder te verwerken dan alleen op te slaan komt er een operator bij, het plusteken: +. Hiermee kan tekst samengevoegd worden door tekst voor het teken te plaatsen en tekst na het teken. In plaats van tekst kunnen ook variabelen worden samengevoegd.\n",
    "\n",
    "Dit ziet er zo uit:\n",
    "> ```variabele = 'Hallo'\n",
    "> print(variabele+' wereld!')`\n",
    "Hallo wereld!```\n",
    "\n",
    "Met al deze kennis kan je dan nu je eigen computerprogramma schrijven\n",
    "\n",
    "### Opdracht 4\n",
    "Schrijf een programma dat je naam inneemt en vervolgens de tekst Gefeliciteerd, het programma werkt,  gevolgd door ingenomen naam op het scherm toont."
   ]
  },
  {
   "cell_type": "code",
   "execution_count": null,
   "metadata": {
    "collapsed": false,
    "nbpresent": {
     "id": "d71e8f23-340b-4cdb-8841-d0d23b2e6be3"
    }
   },
   "outputs": [],
   "source": []
  },
  {
   "cell_type": "markdown",
   "metadata": {
    "collapsed": true,
    "nbpresent": {
     "id": "30f2edd2-b9f3-413f-ab31-6aa676cfa0a7"
    }
   },
   "source": [
    "Nu heb je in principe genoeg kennis om de eindopdracht te kunnen maken. Succes en nog een fijne open dag verder!\n",
    "\n",
    "### Opdracht 5 \n",
    "Schrijf een programma dat je naam en leeftijd inneemt, waarna het op één regel de zin [naam] is [leeftijd] jaar oud. weergeeft.\n"
   ]
  },
  {
   "cell_type": "code",
   "execution_count": null,
   "metadata": {
    "collapsed": true
   },
   "outputs": [],
   "source": []
  }
 ],
 "metadata": {
  "anaconda-cloud": {},
  "kernelspec": {
   "display_name": "Python 3",
   "language": "python",
   "name": "python3"
  },
  "language_info": {
   "codemirror_mode": {
    "name": "ipython",
    "version": 3
   },
   "file_extension": ".py",
   "mimetype": "text/x-python",
   "name": "python",
   "nbconvert_exporter": "python",
   "pygments_lexer": "ipython3",
   "version": "3.6.0"
  },
  "nbpresent": {
   "slides": {},
   "themes": {}
  }
 },
 "nbformat": 4,
 "nbformat_minor": 1
}
