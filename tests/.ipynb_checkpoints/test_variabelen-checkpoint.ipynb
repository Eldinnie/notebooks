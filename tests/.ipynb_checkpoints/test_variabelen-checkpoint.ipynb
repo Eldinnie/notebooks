{
 "cells": [
  {
   "cell_type": "code",
   "execution_count": 2,
   "metadata": {
    "collapsed": false
   },
   "outputs": [
    {
     "name": "stdout",
     "output_type": "stream",
     "text": [
      "Je hebt niet alle goede variabelen gedefineerd.\n"
     ]
    }
   ],
   "source": [
    "if __name__==\"__main__\":\n",
    "    ls = %who_ls\n",
    "    if (\"mijn_eigenlijke_naam\" not in ls) or (\"telefoon_nummer\" not in ls):\n",
    "        print(\"Je hebt niet alle goede variabelen gedefineerd.\")\n",
    "    elif (\"voorNaam\" in ls or \"n\" in ls):\n",
    "        print(\"Je hebt ook variabelen die niet aan de afspraak voldoen gedefineerd. Als je het opnieuw wilt proberen moet je de kernel opnieuw starten\")\n",
    "    else:\n",
    "        print(\"Goed gedaan!\")"
   ]
  },
  {
   "cell_type": "code",
   "execution_count": null,
   "metadata": {
    "collapsed": true
   },
   "outputs": [],
   "source": []
  }
 ],
 "metadata": {
  "kernelspec": {
   "display_name": "Python 3",
   "language": "python",
   "name": "python3"
  },
  "language_info": {
   "codemirror_mode": {
    "name": "ipython",
    "version": 3
   },
   "file_extension": ".py",
   "mimetype": "text/x-python",
   "name": "python",
   "nbconvert_exporter": "python",
   "pygments_lexer": "ipython3",
   "version": "3.6.0"
  }
 },
 "nbformat": 4,
 "nbformat_minor": 2
}
