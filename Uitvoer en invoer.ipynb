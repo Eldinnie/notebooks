{
 "cells": [
  {
   "cell_type": "markdown",
   "metadata": {},
   "source": [
    "# [Uitvoer](#Uitvoer) en [invoer](#Invoer)"
   ]
  },
  {
   "cell_type": "markdown",
   "metadata": {
    "collapsed": true
   },
   "source": [
    "## Uitvoer\n",
    "\n",
    "Om in `python` iets op je scherm of in een notebook te kunnen laten zien gebruik je de functie `print()` Tussen de haakjes zet je dan wat je geprint wil hebben.\n",
    "Als je tekst wilt uitvoeren, gebruik je altijd aanhalingsteken (dubbele `\"` of enekele `'`) om te tekst heen. Je mag zelf kiezen of je enkele of dubbele aanhalingstekens wilt gebruiken, zolang je voor en achter de tekst maar dezelfde gebruikt.\n",
    "\n",
    "\n",
    "```python\n",
    "print('Hallo wereld!')\n",
    "print(\"Hallo wereld!\")\n",
    "print('Hallo wereld!\")\n",
    "print(Hallo Wereld!)```\n",
    "\n",
    "Probeer in de cell hieronder de vier voorbeelden hierboven maar eens uit en kijk wat er gebeurd. Als je een fout krijgt krijg je allemaal informatie die je nog niet hoeft te snappen. Maar je kunt wel zien of het fout gaat.\n"
   ]
  },
  {
   "cell_type": "code",
   "execution_count": null,
   "metadata": {
    "collapsed": false
   },
   "outputs": [],
   "source": []
  },
  {
   "cell_type": "markdown",
   "metadata": {},
   "source": [
    "Je kunt de printfunctie ook gebruiken om andere dingen dan tekst te printen. Bijvoorbeeld getallen, kommagetallen, of meerdere dingen achter elkaar:\n",
    "```python\n",
    "print(12)\n",
    "print(23.1)\n",
    "print(\"hallo\", 12, 23.1)```\n",
    "\n",
    "Probeer het maar eens in de cell hier onder:"
   ]
  },
  {
   "cell_type": "code",
   "execution_count": null,
   "metadata": {
    "collapsed": false
   },
   "outputs": [],
   "source": []
  },
  {
   "cell_type": "markdown",
   "metadata": {},
   "source": [
    "Tot slot is een veelgebruikte helpfunctie van de `print`-functie de seperator. deze gebruik je alsvolgt:\n",
    "```python\n",
    "print(1,2,3, sep=',')```\n",
    "Hiermee geef je aan wat er tussen de verschillende dingen die geprint moeten worden komt te staan. In het voorbeeld hierboven is dat een komma, maar je kun ook andere dingen er tussen plaatsen. \n",
    "\n",
    "De enige voorwaarde is dat het scheidingsteken tekst moet zijn en dus tussen aanhalingstekens moet worden gezet (`'` of  `\"`).\n",
    "```python\n",
    "print(1, 2, 3, 4, sep=\"->\") \n",
    "print(\"lang\", \"leven, lang\", \"leven\", sep=\" zal ze \")```\n",
    "Probeer maar uit hier onder:"
   ]
  },
  {
   "cell_type": "code",
   "execution_count": null,
   "metadata": {
    "collapsed": false
   },
   "outputs": [],
   "source": []
  },
  {
   "cell_type": "markdown",
   "metadata": {},
   "source": [
    "Met alles wat je hierboven hebt geleerd zou je nu het volgende moeten kunnen:\n",
    "> zorg dat je een uitvoer krijgt die er zo uit ziet\n",
    "\n",
    "> * 1,2,3,4,5\n",
    "> * 1, 2, 3, 4, 5 (met spaties na de komma\n",
    "> * Hoi, ik ben Jan, ik ben 1,63m, ik ben 15.\n",
    "\n",
    "Om deze opdracht af te ronden zet je de opdracdhten die nodig zijn om het bovenstaande te printen in de cell hier onder.\n",
    "\n",
    "### Eindopdracht:"
   ]
  },
  {
   "cell_type": "code",
   "execution_count": null,
   "metadata": {
    "collapsed": false
   },
   "outputs": [],
   "source": []
  },
  {
   "cell_type": "markdown",
   "metadata": {},
   "source": [
    "---\n",
    "## Invoer\n",
    "Om in python invoer van gebruikers te krijgen gebruik je de functie `input()`\n",
    "\n",
    "probeer maar eens wat er gebeurd als je alleen maar `input()` in de cell hier onder typt."
   ]
  },
  {
   "cell_type": "code",
   "execution_count": null,
   "metadata": {
    "collapsed": false
   },
   "outputs": [],
   "source": []
  },
  {
   "cell_type": "markdown",
   "metadata": {},
   "source": [
    "Als het goed is gegaan kreeg je een tekstvakje waarin je tekst kan invoeren. Alleen is nu niet zo duidelijk wat je eigenlijk van de gebruiken wilt weten. Daarom kun je tussen de haakjes van `input()` een tekst plaatsen die de gebruiken voor het invoervakje te zien krijgt:\n",
    "```python\n",
    "input(\"Wat is je naam?\")```\n",
    "\n",
    "Probeer de bovenstaande code maar eens uit."
   ]
  },
  {
   "cell_type": "code",
   "execution_count": null,
   "metadata": {
    "collapsed": false
   },
   "outputs": [],
   "source": []
  },
  {
   "cell_type": "markdown",
   "metadata": {
    "collapsed": true
   },
   "source": [
    "Zoals bij uitvoer al vermeld kun je binnen de `print()` functie van alles plaatsen om af te drukken. probeer het volgende maar eens:\n",
    "\n",
    "```python\n",
    "print(input('Wat is je naam?'))```\n",
    "    "
   ]
  },
  {
   "cell_type": "code",
   "execution_count": null,
   "metadata": {
    "collapsed": false
   },
   "outputs": [],
   "source": []
  },
  {
   "cell_type": "markdown",
   "metadata": {},
   "source": [
    "### Eindopdracht\n",
    "Laat de gebruiker zijn naam leeftijd en klas invullen en print dit met komma's er tussen. Uitvoer kan er bijvoorbeeld zo uit zien:\n",
    "> Jan, 15, 3B"
   ]
  },
  {
   "cell_type": "code",
   "execution_count": null,
   "metadata": {
    "collapsed": false
   },
   "outputs": [],
   "source": []
  }
 ],
 "metadata": {
  "kernelspec": {
   "display_name": "Python 3",
   "language": "python",
   "name": "python3"
  },
  "language_info": {
   "codemirror_mode": {
    "name": "ipython",
    "version": 3
   },
   "file_extension": ".py",
   "mimetype": "text/x-python",
   "name": "python",
   "nbconvert_exporter": "python",
   "pygments_lexer": "ipython3",
   "version": "3.6.0"
  }
 },
 "nbformat": 4,
 "nbformat_minor": 2
}
