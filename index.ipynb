{
 "cells": [
  {
   "cell_type": "markdown",
   "metadata": {},
   "source": [
    "\n",
    "[Open dag introductie](Introductie_open_dag.ipynb)\n",
    "\n",
    "1. [Het gebruik van notebooks][hgvn]\n",
    "1. [Uitvoer en invoer][ueni]\n",
    "1. [Variablen][vari]\n",
    "1. [Basistypes variabelen][btv]\n",
    "1. [Variabelen bewerken][vb]\n",
    "1. [Gecompliceerde types variabelen][gtv]\n",
    "1. If statements\n",
    "1. Loops\n",
    "1. [Functies][functies]\n",
    "\n",
    "[hgvn]: Het%20gebruik%20van%20notebooks.ipynb \"Het gebruik van notebooks\"\n",
    "[ueni]: Uitvoer%20en%20invoer.ipynb \"Uitvoer en invoer\"\n",
    "[vari]: Variabelen.ipynb \"Variabelen\"\n",
    "[btv]: Basistypes%20variabelen.ipynb \"Basistypes variabelen\"\n",
    "[vb]: Variabelen%20bewerken.ipynb \"Variabelen bewerken\"\n",
    "[gtv]: Gecompliceerde%20types%20variabelen.ipynb \"Gecompliceerde types variabelen\"\n",
    "[functies]: Functies.ipynb \"Functies\"\n"
   ]
  },
  {
   "cell_type": "code",
   "execution_count": null,
   "metadata": {
    "collapsed": true
   },
   "outputs": [],
   "source": []
  }
 ],
 "metadata": {
  "kernelspec": {
   "display_name": "Python 3",
   "language": "python",
   "name": "python3"
  },
  "language_info": {
   "codemirror_mode": {
    "name": "ipython",
    "version": 3
   },
   "file_extension": ".py",
   "mimetype": "text/x-python",
   "name": "python",
   "nbconvert_exporter": "python",
   "pygments_lexer": "ipython3",
   "version": "3.6.0"
  }
 },
 "nbformat": 4,
 "nbformat_minor": 2
}
