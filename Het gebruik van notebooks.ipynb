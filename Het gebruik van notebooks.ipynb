{
 "cells": [
  {
   "cell_type": "markdown",
   "metadata": {},
   "source": [
    "# Het gebruik van notebooks"
   ]
  },
  {
   "cell_type": "markdown",
   "metadata": {
    "collapsed": true
   },
   "source": [
    "Wat je nu voor je ziet is een Python Notebook. Een notebook gebruiken we om te leren werken met python, zonder dat je daarvoor eerst iets hoeft te installeren of in te stellen. In een Notebook kun je python commando's invoeren in cellen die speciaal daarvoor zijn gemaakt. Je kunt deze herkennen aan omdat voor de cell **`In [ ]:`** staat.\n",
    "![invoercell](images/command_cell.PNG \"invoercell\")\n",
    "In zo'n cell kun je dan python commando's typen die worden je kunt uitvoeren door op _**`shift+enter`**_ te drukken. Probeer het maar ééns met de cell hier onder. Selecteer de cel en druk tegelijk op _**shift**_ en _**Enter**_."
   ]
  },
  {
   "cell_type": "code",
   "execution_count": null,
   "metadata": {
    "collapsed": false
   },
   "outputs": [],
   "source": [
    "print('Hallo Wereld')"
   ]
  },
  {
   "cell_type": "markdown",
   "metadata": {},
   "source": [
    "Als het goed is gegaan is er onder de cell hierboven een vakje erbij gekomen daarin de uitvoer van het programma en ziet het er nu zo uit:\n",
    "![uitvoer](images\\command_cell_with ouput.PNG \"commandcell Met uitvoer\")\n",
    "Later zal je ook zelf code gaan typen in dit soort cellen om hem uit te voeren. "
   ]
  }
 ],
 "metadata": {
  "kernelspec": {
   "display_name": "Python 3",
   "language": "python",
   "name": "python3"
  },
  "language_info": {
   "codemirror_mode": {
    "name": "ipython",
    "version": 3
   },
   "file_extension": ".py",
   "mimetype": "text/x-python",
   "name": "python",
   "nbconvert_exporter": "python",
   "pygments_lexer": "ipython3",
   "version": "3.6.0"
  }
 },
 "nbformat": 4,
 "nbformat_minor": 2
}
