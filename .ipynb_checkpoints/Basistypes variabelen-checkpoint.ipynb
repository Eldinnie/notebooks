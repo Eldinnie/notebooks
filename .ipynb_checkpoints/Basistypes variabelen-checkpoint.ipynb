{
 "cells": [
  {
   "cell_type": "markdown",
   "metadata": {
    "collapsed": true
   },
   "source": [
    "# Basistypes variabelen\n",
    "-----\n",
    "In de vorige opdracht heb je al een aantal verschillende variabelen zien langskomen. Zo hebben we variabelen gezien die tekst opslaan, maar ook variabelen die getallen opslaan. Python kent veel verschillende types variabelen, maar er zijn er een paar die we de basistypes noemen. Hieronder staan ze in een tabel.\n",
    "\n",
    "| type    | naam in python | omschrijving |\n",
    "|-----|-------|-------|\n",
    "| getallen| int, float           | getallen (positief of negatief) |\n",
    "| string  | str            | Tekst                                |\n",
    "\n",
    "## Getallen\n",
    "Python maakt onderscheid tussen hele getallen (`integers`) en komma-getallen (`floating point`). Het toewijzen gaat precies zoals je in het vorige deel hebt geleerd. Je kunt de namen van de variabelen zelf kiezen, maar kies zoals altijd goede en geldige namen. Voor kommagetallen geldt dat je een **.** punt gebruikt in plaats van een komma.\n",
    "\n",
    "<span style=\"color:green\">Goed:</span>\n",
    "```python\n",
    "mijn_getal = 42\n",
    "komma_getal = 23.5\n",
    "komma_getal_2 = 0.0034\n",
    "```\n",
    "\n",
    "<span style=\"color:red\">Fout:</span>\n",
    "```python\n",
    "mijn_getal = 00032 # geen nullen voor het getal\n",
    "komma_getal = 0,23 # Gebruik een . geen ,\n",
    "```"
   ]
  },
  {
   "cell_type": "code",
   "execution_count": 1,
   "metadata": {
    "collapsed": false
   },
   "outputs": [
    {
     "data": {
      "text/plain": [
       "0.75"
      ]
     },
     "execution_count": 1,
     "metadata": {},
     "output_type": "execute_result"
    }
   ],
   "source": [
    "3/4"
   ]
  }
 ],
 "metadata": {
  "kernelspec": {
   "display_name": "Python 3",
   "language": "python",
   "name": "python3"
  },
  "language_info": {
   "codemirror_mode": {
    "name": "ipython",
    "version": 3
   },
   "file_extension": ".py",
   "mimetype": "text/x-python",
   "name": "python",
   "nbconvert_exporter": "python",
   "pygments_lexer": "ipython3",
   "version": "3.6.0"
  }
 },
 "nbformat": 4,
 "nbformat_minor": 2
}
