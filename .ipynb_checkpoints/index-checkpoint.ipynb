{
 "cells": [
  {
   "cell_type": "markdown",
   "metadata": {},
   "source": [
    "\n",
    "[Open dag introductie](Introductie_open_dag.ipynb)\n",
    "\n",
    "1. [Het gebruik van notebooks](1. Het gebruik van notebooks.ipynb)\n",
    "1. [Uitvoer, invoer en variabelen](2. Uitvoer, invoer en variabelen.ipynb)\n",
    "1. [Basistypes variabelen](3. Basistypes variabelen.ipynb)\n",
    "1. [Variabelen bewerken](4. Variabelen bewerken.ipynb)\n",
    "1. [Gecompliceerde types variabelen](5. Gecompliceerde types variabelen.ipynb)\n",
    "1. If statements\n",
    "1. Loops\n",
    "1. [Functies](6. Functies.ipynb)\n",
    "\n",
    "\n",
    "\n"
   ]
  },
  {
   "cell_type": "code",
   "execution_count": null,
   "metadata": {
    "collapsed": true
   },
   "outputs": [],
   "source": []
  }
 ],
 "metadata": {
  "kernelspec": {
   "display_name": "Python 3",
   "language": "python",
   "name": "python3"
  },
  "language_info": {
   "codemirror_mode": {
    "name": "ipython",
    "version": 3
   },
   "file_extension": ".py",
   "mimetype": "text/x-python",
   "name": "python",
   "nbconvert_exporter": "python",
   "pygments_lexer": "ipython3",
   "version": "3.6.0"
  }
 },
 "nbformat": 4,
 "nbformat_minor": 2
}
