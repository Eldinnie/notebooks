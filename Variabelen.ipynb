{
 "cells": [
  {
   "cell_type": "markdown",
   "metadata": {
    "collapsed": true
   },
   "source": [
    "# Variabelen\n",
    "Als je een programma gaat schrijven zal je vaak tegenkomen dat je iets even wilt bewaren/opslaan om het later opnieuw te kunnen gebruiken, of omdat je er bijvoorbeeld een berekening mee wilt uitvoeren. \n",
    "\n",
    "Voor het opslaan van waardes gebruiken we `variabelen`. Om een variabele te maken doe je het volgende:\n",
    "```python\n",
    "mijn_waarde = 10```\n",
    "Hierin zijn drie dingen belangrijk:\n",
    "\n",
    "| mijn_waarde \t| dit is de **naam** van de variabele, de manier waarop we hem kunnen aanroepen                      \t|\n",
    "|-------------\t|----------------------------------------------------------------------------------------------------\t|\n",
    "| =           \t| Dit teken vertelt aan python dat war er achter komt te staan wordt toegewezen aan wat ervoor staat \t|\n",
    "| 10     \t| De waarde die aan mijn_waarde wordt toegekend                                                      \t|\n",
    "\n",
    "probeer de bovenstaande code maar eens in de cell hieronder. Let op, dit geeft geen output"
   ]
  },
  {
   "cell_type": "code",
   "execution_count": 1,
   "metadata": {
    "collapsed": true
   },
   "outputs": [],
   "source": [
    "mijn_waarde = 10"
   ]
  },
  {
   "cell_type": "markdown",
   "metadata": {},
   "source": [
    "De vell heeft geen output gegeven, maar er is wel iets veranderd probeer de volgende code in de volgende cell:\n",
    "```python\n",
    "print(mijn_waarde)```"
   ]
  },
  {
   "cell_type": "code",
   "execution_count": null,
   "metadata": {
    "collapsed": false
   },
   "outputs": [],
   "source": []
  },
  {
   "cell_type": "markdown",
   "metadata": {},
   "source": [
    "Als het goed is geeft het programm nu 10 als output weer. Dit komt omdat we de `print()` functie de opdracht gaven om de `waarde` van de `variabele` *mijn_waarde* te printen. En die waarde hadden we eerder in dit notebook al ingesteld op 10 (met `mijn_waarde = 10`)\n",
    "\n",
    "Je kunt variabelen ook gebruiken in bijvoorbeeld rekensommetjes, om tekst te bewerken en nog veel andere dingen. Hoe dit allemaal werkt leggen we later uit, maar voor nu is het belangrijk dat je weet hoe je variabelen kunt toewijzen. Een paar regeltjes voor de namen van variabelen:\n",
    "* Mogen alleen letters en cijfers bevatten\n",
    "* Mogen niet beginnen met een cijfer\n",
    "* Mogen geen spaties bevatten\n",
    "* Bevatten eigenlijk nooit hoofdletters\n",
    "* Als ze uit meerdere woorden bestaan zetten we _ in plaats van een spatie\n",
    "* Moeten duidelijk weergeven wat de variabele bevat\n",
    "\n",
    "De laatste drie zijn geen **regels**, dus van python mag het best, maar het zijn wel afspraken. Python maakt het niets uit of jij in je code een variable de naam `SuperAwesomeBRUCELEEnaam4433` wil geven. Maar echt duidelijk is het niet voor andere programmeurs die je programma bekijken.\n",
    "```python\n",
    "voorNaam = \"Jan\"\n",
    "mijn_eigenlijke_naam = \"Johannes\"\n",
    "12_keer_3 = 36\n",
    "mijn_telefoon_# = 0612345678\n",
    "mijn adres = \"Vaartweg 54\"\n",
    "n = \"Karel\"```\n",
    "Zet in de cell hieronder alle variabelen toewijzingen waarvan je denkt dat ze goed zijn en dus gebruikt kunnen worden.\n",
    "Als je foutmeldingen krijgt in de cell, probeer dan goed te kijken welke misschien toch niet goed was"
   ]
  },
  {
   "cell_type": "code",
   "execution_count": null,
   "metadata": {
    "collapsed": false
   },
   "outputs": [],
   "source": []
  },
  {
   "cell_type": "code",
   "execution_count": null,
   "metadata": {
    "collapsed": false
   },
   "outputs": [],
   "source": []
  },
  {
   "cell_type": "code",
   "execution_count": null,
   "metadata": {
    "collapsed": true
   },
   "outputs": [],
   "source": []
  }
 ],
 "metadata": {
  "kernelspec": {
   "display_name": "Python 3",
   "language": "python",
   "name": "python3"
  },
  "language_info": {
   "codemirror_mode": {
    "name": "ipython",
    "version": 3
   },
   "file_extension": ".py",
   "mimetype": "text/x-python",
   "name": "python",
   "nbconvert_exporter": "python",
   "pygments_lexer": "ipython3",
   "version": "3.6.0"
  }
 },
 "nbformat": 4,
 "nbformat_minor": 2
}
